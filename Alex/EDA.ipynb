{
 "cells": [
  {
   "cell_type": "code",
   "execution_count": 1,
   "metadata": {},
   "outputs": [],
   "source": [
    "import pandas as pd\n",
    "import numpy as np\n",
    "import matplotlib.pyplot as plt\n",
    "import seaborn as sns"
   ]
  },
  {
   "cell_type": "code",
   "execution_count": 15,
   "metadata": {},
   "outputs": [],
   "source": [
    "df = pd.read_csv('../data/manomano_dataset_full.csv.zip', low_memory=False)\n"
   ]
  },
  {
   "cell_type": "code",
   "execution_count": 22,
   "metadata": {},
   "outputs": [
    {
     "data": {
      "text/html": [
       "<div>\n",
       "<style scoped>\n",
       "    .dataframe tbody tr th:only-of-type {\n",
       "        vertical-align: middle;\n",
       "    }\n",
       "\n",
       "    .dataframe tbody tr th {\n",
       "        vertical-align: top;\n",
       "    }\n",
       "\n",
       "    .dataframe thead th {\n",
       "        text-align: right;\n",
       "    }\n",
       "</style>\n",
       "<table border=\"1\" class=\"dataframe\">\n",
       "  <thead>\n",
       "    <tr style=\"text-align: right;\">\n",
       "      <th></th>\n",
       "      <th>id</th>\n",
       "      <th>comment</th>\n",
       "      <th>original_comment</th>\n",
       "      <th>score</th>\n",
       "      <th>data_scale</th>\n",
       "      <th>data_source</th>\n",
       "      <th>created_at</th>\n",
       "      <th>date</th>\n",
       "      <th>day</th>\n",
       "      <th>month</th>\n",
       "      <th>...</th>\n",
       "      <th>bv_transaction</th>\n",
       "      <th>payment_method</th>\n",
       "      <th>operating_system</th>\n",
       "      <th>last_paid_channel</th>\n",
       "      <th>has_presales_contact</th>\n",
       "      <th>shipping_fees_bucket</th>\n",
       "      <th>bv_transaction_bucket</th>\n",
       "      <th>has_manodvisor_contact</th>\n",
       "      <th>themes</th>\n",
       "      <th>tags</th>\n",
       "    </tr>\n",
       "  </thead>\n",
       "  <tbody>\n",
       "    <tr>\n",
       "      <th>0</th>\n",
       "      <td>295564331</td>\n",
       "      <td>NaN</td>\n",
       "      <td>NaN</td>\n",
       "      <td>10</td>\n",
       "      <td>NPS</td>\n",
       "      <td>Customer Effort Score</td>\n",
       "      <td>2021-08-01T00:02:13.000Z</td>\n",
       "      <td>2021-08-01</td>\n",
       "      <td>dimanche</td>\n",
       "      <td>août</td>\n",
       "      <td>...</td>\n",
       "      <td>119,95</td>\n",
       "      <td>paypal</td>\n",
       "      <td>iOS 14.6</td>\n",
       "      <td>SHOPBOT</td>\n",
       "      <td>False</td>\n",
       "      <td>0</td>\n",
       "      <td>101 - 150</td>\n",
       "      <td>False</td>\n",
       "      <td>NaN</td>\n",
       "      <td>NaN</td>\n",
       "    </tr>\n",
       "    <tr>\n",
       "      <th>1</th>\n",
       "      <td>295563489</td>\n",
       "      <td>NaN</td>\n",
       "      <td>NaN</td>\n",
       "      <td>10</td>\n",
       "      <td>NPS</td>\n",
       "      <td>Customer Effort Score</td>\n",
       "      <td>2021-08-01T00:04:10.000Z</td>\n",
       "      <td>2021-08-01</td>\n",
       "      <td>dimanche</td>\n",
       "      <td>août</td>\n",
       "      <td>...</td>\n",
       "      <td>99,99</td>\n",
       "      <td>mastercard</td>\n",
       "      <td>Windows 10</td>\n",
       "      <td>SHOPBOT</td>\n",
       "      <td>False</td>\n",
       "      <td>0</td>\n",
       "      <td>1 - 100</td>\n",
       "      <td>False</td>\n",
       "      <td>NaN</td>\n",
       "      <td>NaN</td>\n",
       "    </tr>\n",
       "    <tr>\n",
       "      <th>2</th>\n",
       "      <td>295564358</td>\n",
       "      <td>NaN</td>\n",
       "      <td>NaN</td>\n",
       "      <td>8</td>\n",
       "      <td>NPS</td>\n",
       "      <td>Customer Effort Score</td>\n",
       "      <td>2021-08-01T00:15:48.000Z</td>\n",
       "      <td>2021-08-01</td>\n",
       "      <td>dimanche</td>\n",
       "      <td>août</td>\n",
       "      <td>...</td>\n",
       "      <td>84,99</td>\n",
       "      <td>visa</td>\n",
       "      <td>Windows 10</td>\n",
       "      <td>AFFILIATION</td>\n",
       "      <td>False</td>\n",
       "      <td>0</td>\n",
       "      <td>1 - 100</td>\n",
       "      <td>False</td>\n",
       "      <td>NaN</td>\n",
       "      <td>NaN</td>\n",
       "    </tr>\n",
       "    <tr>\n",
       "      <th>3</th>\n",
       "      <td>295563988</td>\n",
       "      <td>NaN</td>\n",
       "      <td>NaN</td>\n",
       "      <td>5</td>\n",
       "      <td>NPS</td>\n",
       "      <td>Customer Effort Score</td>\n",
       "      <td>2021-08-01T02:04:17.000Z</td>\n",
       "      <td>2021-08-01</td>\n",
       "      <td>dimanche</td>\n",
       "      <td>août</td>\n",
       "      <td>...</td>\n",
       "      <td>92,99</td>\n",
       "      <td>visa</td>\n",
       "      <td>iOS 14.5.1</td>\n",
       "      <td>SHOPBOT</td>\n",
       "      <td>False</td>\n",
       "      <td>0</td>\n",
       "      <td>1 - 100</td>\n",
       "      <td>False</td>\n",
       "      <td>NaN</td>\n",
       "      <td>Detractor '- Signup/Login</td>\n",
       "    </tr>\n",
       "    <tr>\n",
       "      <th>4</th>\n",
       "      <td>295562040</td>\n",
       "      <td>NaN</td>\n",
       "      <td>NaN</td>\n",
       "      <td>10</td>\n",
       "      <td>NPS</td>\n",
       "      <td>Customer Effort Score</td>\n",
       "      <td>2021-08-01T02:38:07.000Z</td>\n",
       "      <td>2021-08-01</td>\n",
       "      <td>dimanche</td>\n",
       "      <td>août</td>\n",
       "      <td>...</td>\n",
       "      <td>8,3</td>\n",
       "      <td>paypal</td>\n",
       "      <td>Windows 10</td>\n",
       "      <td>SEM</td>\n",
       "      <td>False</td>\n",
       "      <td>1 - 5</td>\n",
       "      <td>1 - 100</td>\n",
       "      <td>False</td>\n",
       "      <td>NaN</td>\n",
       "      <td>NaN</td>\n",
       "    </tr>\n",
       "  </tbody>\n",
       "</table>\n",
       "<p>5 rows × 35 columns</p>\n",
       "</div>"
      ],
      "text/plain": [
       "          id comment original_comment  score data_scale  \\\n",
       "0  295564331     NaN              NaN     10        NPS   \n",
       "1  295563489     NaN              NaN     10        NPS   \n",
       "2  295564358     NaN              NaN      8        NPS   \n",
       "3  295563988     NaN              NaN      5        NPS   \n",
       "4  295562040     NaN              NaN     10        NPS   \n",
       "\n",
       "             data_source                created_at        date       day  \\\n",
       "0  Customer Effort Score  2021-08-01T00:02:13.000Z  2021-08-01  dimanche   \n",
       "1  Customer Effort Score  2021-08-01T00:04:10.000Z  2021-08-01  dimanche   \n",
       "2  Customer Effort Score  2021-08-01T00:15:48.000Z  2021-08-01  dimanche   \n",
       "3  Customer Effort Score  2021-08-01T02:04:17.000Z  2021-08-01  dimanche   \n",
       "4  Customer Effort Score  2021-08-01T02:38:07.000Z  2021-08-01  dimanche   \n",
       "\n",
       "  month  ...  bv_transaction payment_method operating_system  \\\n",
       "0  août  ...          119,95         paypal         iOS 14.6   \n",
       "1  août  ...           99,99     mastercard       Windows 10   \n",
       "2  août  ...           84,99           visa       Windows 10   \n",
       "3  août  ...           92,99           visa       iOS 14.5.1   \n",
       "4  août  ...             8,3         paypal       Windows 10   \n",
       "\n",
       "  last_paid_channel has_presales_contact shipping_fees_bucket  \\\n",
       "0           SHOPBOT                False                    0   \n",
       "1           SHOPBOT                False                    0   \n",
       "2       AFFILIATION                False                    0   \n",
       "3           SHOPBOT                False                    0   \n",
       "4               SEM                False                1 - 5   \n",
       "\n",
       "  bv_transaction_bucket has_manodvisor_contact themes  \\\n",
       "0             101 - 150                  False    NaN   \n",
       "1               1 - 100                  False    NaN   \n",
       "2               1 - 100                  False    NaN   \n",
       "3               1 - 100                  False    NaN   \n",
       "4               1 - 100                  False    NaN   \n",
       "\n",
       "                        tags  \n",
       "0                        NaN  \n",
       "1                        NaN  \n",
       "2                        NaN  \n",
       "3  Detractor '- Signup/Login  \n",
       "4                        NaN  \n",
       "\n",
       "[5 rows x 35 columns]"
      ]
     },
     "execution_count": 22,
     "metadata": {},
     "output_type": "execute_result"
    }
   ],
   "source": [
    "df.head()"
   ]
  },
  {
   "cell_type": "code",
   "execution_count": 16,
   "metadata": {},
   "outputs": [
    {
     "data": {
      "text/plain": [
       "(95182, 35)"
      ]
     },
     "execution_count": 16,
     "metadata": {},
     "output_type": "execute_result"
    }
   ],
   "source": [
    "df.shape"
   ]
  },
  {
   "cell_type": "code",
   "execution_count": 18,
   "metadata": {},
   "outputs": [
    {
     "name": "stdout",
     "output_type": "stream",
     "text": [
      "<class 'pandas.core.frame.DataFrame'>\n",
      "RangeIndex: 95182 entries, 0 to 95181\n",
      "Data columns (total 35 columns):\n",
      " #   Column                  Non-Null Count  Dtype \n",
      "---  ------                  --------------  ----- \n",
      " 0   id                      95182 non-null  int64 \n",
      " 1   comment                 11507 non-null  object\n",
      " 2   original_comment        11796 non-null  object\n",
      " 3   score                   95182 non-null  int64 \n",
      " 4   data_scale              95182 non-null  object\n",
      " 5   data_source             95182 non-null  object\n",
      " 6   created_at              95182 non-null  object\n",
      " 7   date                    95182 non-null  object\n",
      " 8   day                     95182 non-null  object\n",
      " 9   month                   95182 non-null  object\n",
      " 10  is_mf                   95182 non-null  bool  \n",
      " 11  device                  95182 non-null  object\n",
      " 12  family                  95176 non-null  object\n",
      " 13  is_b2b                  94508 non-null  object\n",
      " 14  reason                  3976 non-null   object\n",
      " 15  browser                 95182 non-null  object\n",
      " 16  zipcode                 17652 non-null  object\n",
      " 17  category                95176 non-null  object\n",
      " 18  language                95182 non-null  object\n",
      " 19  platform                95182 non-null  object\n",
      " 20  provider                95176 non-null  object\n",
      " 21  first_order             95182 non-null  bool  \n",
      " 22  nb_articles             95182 non-null  int64 \n",
      " 23  csat_presales           95182 non-null  object\n",
      " 24  shipping_fees           95182 non-null  object\n",
      " 25  bv_transaction          95182 non-null  object\n",
      " 26  payment_method          95182 non-null  object\n",
      " 27  operating_system        95182 non-null  object\n",
      " 28  last_paid_channel       94460 non-null  object\n",
      " 29  has_presales_contact    95182 non-null  bool  \n",
      " 30  shipping_fees_bucket    95182 non-null  object\n",
      " 31  bv_transaction_bucket   95182 non-null  object\n",
      " 32  has_manodvisor_contact  95182 non-null  bool  \n",
      " 33  themes                  11496 non-null  object\n",
      " 34  tags                    3995 non-null   object\n",
      "dtypes: bool(4), int64(3), object(28)\n",
      "memory usage: 22.9+ MB\n"
     ]
    }
   ],
   "source": [
    "df.info()"
   ]
  },
  {
   "cell_type": "code",
   "execution_count": 20,
   "metadata": {},
   "outputs": [
    {
     "data": {
      "text/plain": [
       "reason                    95.822740\n",
       "tags                      95.802778\n",
       "themes                    87.922086\n",
       "comment                   87.910529\n",
       "original_comment          87.606900\n",
       "zipcode                   81.454477\n",
       "last_paid_channel          0.758547\n",
       "is_b2b                     0.708117\n",
       "family                     0.006304\n",
       "provider                   0.006304\n",
       "category                   0.006304\n",
       "device                     0.000000\n",
       "is_mf                      0.000000\n",
       "score                      0.000000\n",
       "has_manodvisor_contact     0.000000\n",
       "bv_transaction_bucket      0.000000\n",
       "shipping_fees_bucket       0.000000\n",
       "has_presales_contact       0.000000\n",
       "data_scale                 0.000000\n",
       "operating_system           0.000000\n",
       "payment_method             0.000000\n",
       "bv_transaction             0.000000\n",
       "shipping_fees              0.000000\n",
       "csat_presales              0.000000\n",
       "nb_articles                0.000000\n",
       "first_order                0.000000\n",
       "data_source                0.000000\n",
       "platform                   0.000000\n",
       "language                   0.000000\n",
       "created_at                 0.000000\n",
       "date                       0.000000\n",
       "browser                    0.000000\n",
       "day                        0.000000\n",
       "month                      0.000000\n",
       "id                         0.000000\n",
       "dtype: float64"
      ]
     },
     "execution_count": 20,
     "metadata": {},
     "output_type": "execute_result"
    }
   ],
   "source": [
    "# pourcentage de valeurs manquantes dans chaque colonne\n",
    "((df.isna().sum()/ df.shape[0]) *100).sort_values(ascending=False)"
   ]
  },
  {
   "cell_type": "markdown",
   "metadata": {},
   "source": [
    "### contenu des colonnes\n"
   ]
  },
  {
   "cell_type": "code",
   "execution_count": 21,
   "metadata": {},
   "outputs": [
    {
     "data": {
      "text/plain": [
       "J’ai trouvé que les frais de port étaient trop chers                                                                                                                     503\n",
       "J’ai eu des difficultés à m'inscrire ou à me connecter                                                                                                                   402\n",
       "J'ai eu des difficultés à payer avec les moyens de paiement proposés                                                                                                     314\n",
       "Je n’ai pas trouvé facilement les produits que je cherchais                                                                                                              228\n",
       "J’ai manqué d’options pour me faire livrer                                                                                                                               222\n",
       "                                                                                                                                                                        ... \n",
       "I lacked information on the products | I didn't find the products I was looking for                                                                                        1\n",
       "J’ai eu du mal à trouver les produits complémentaires ou compatibles | J'ai eu des difficultés à utiliser mon code promo | J’ai manqué d’options pour me faire livrer      1\n",
       "Il mio metodo di pagamento non ha funzionato come previsto. | Non ho trovato informazioni sufficienti sul prodotto.                                                        1\n",
       "J’ai trouvé que les frais de port étaient trop chers | J’ai eu des difficultés à m'inscrire ou à me connecter | J’ai manqué d’options pour me faire livrer                 1\n",
       "I lacked information regarding returns | I had trouble signing up or logging in                                                                                            1\n",
       "Name: reason, Length: 160, dtype: int64"
      ]
     },
     "execution_count": 21,
     "metadata": {},
     "output_type": "execute_result"
    }
   ],
   "source": [
    "df['reason'].value_counts()"
   ]
  },
  {
   "cell_type": "code",
   "execution_count": 23,
   "metadata": {},
   "outputs": [
    {
     "data": {
      "text/plain": [
       "Detractor '- Signup/Login                                                                            776\n",
       "Detractor '- Delivery Fees                                                                           699\n",
       "Detractor '- Difficulty Paying                                                                       553\n",
       "Detractor '- Product Info                                                                            344\n",
       "Detractor '- Delivery Options                                                                        327\n",
       "                                                                                                    ... \n",
       "Detractor '- Finding Products; Detractor - Delivery Options; Detractor - Delivery Fees                 1\n",
       "Detractor '- Using Coupons; Detractor - Finding Compatible Products; Detractor - Delivery Options      1\n",
       "Detractor '- Returns Info; Detractor - Delivery Fees                                                   1\n",
       "Detractor '- Delivery Fees; Detractor - Finding Compatible Products; Detractor - Delivery Options      1\n",
       "Detractor '- Product Info; Detractor - Finding Compatible Products                                     1\n",
       "Name: tags, Length: 112, dtype: int64"
      ]
     },
     "execution_count": 23,
     "metadata": {},
     "output_type": "execute_result"
    }
   ],
   "source": [
    "df['tags'].value_counts()"
   ]
  },
  {
   "cell_type": "code",
   "execution_count": 24,
   "metadata": {},
   "outputs": [
    {
     "data": {
      "text/plain": [
       "NPS    95182\n",
       "Name: data_scale, dtype: int64"
      ]
     },
     "execution_count": 24,
     "metadata": {},
     "output_type": "execute_result"
    }
   ],
   "source": [
    "df['data_scale'].value_counts()"
   ]
  },
  {
   "cell_type": "code",
   "execution_count": 25,
   "metadata": {},
   "outputs": [
    {
     "data": {
      "text/plain": [
       "Customer Effort Score    95182\n",
       "Name: data_source, dtype: int64"
      ]
     },
     "execution_count": 25,
     "metadata": {},
     "output_type": "execute_result"
    }
   ],
   "source": [
    "df['data_source'].value_counts()"
   ]
  },
  {
   "cell_type": "code",
   "execution_count": 26,
   "metadata": {},
   "outputs": [
    {
     "data": {
      "text/plain": [
       "False    81089\n",
       "True     13419\n",
       "Name: is_b2b, dtype: int64"
      ]
     },
     "execution_count": 26,
     "metadata": {},
     "output_type": "execute_result"
    }
   ],
   "source": [
    "df['is_b2b'].value_counts()"
   ]
  },
  {
   "cell_type": "code",
   "execution_count": 27,
   "metadata": {},
   "outputs": [
    {
     "data": {
      "text/plain": [
       "Jardin piscine            19675\n",
       "Outillage                 18555\n",
       "Mobilier d'intérieur      15000\n",
       "Plomberie chauffage        7806\n",
       "Salle de bain, WC          6664\n",
       "Quincaillerie              6638\n",
       "Electricité                6387\n",
       "Luminaire                  6116\n",
       "Animalerie                 2493\n",
       "Revêtement sol et mur      2279\n",
       "Cuisine                    2071\n",
       "Construction matériaux     1492\n",
       "Name: family, dtype: int64"
      ]
     },
     "execution_count": 27,
     "metadata": {},
     "output_type": "execute_result"
    }
   ],
   "source": [
    "\n",
    "df['family'].value_counts()"
   ]
  },
  {
   "cell_type": "code",
   "execution_count": 28,
   "metadata": {},
   "outputs": [
    {
     "data": {
      "text/plain": [
       "Matériel et aménagement de l'atelier    5327\n",
       "Chauffage et climatisation              4607\n",
       "Outils de jardin motorisés              4379\n",
       "Mobilier de jardin et jeux              4087\n",
       "Meuble de salon                         3302\n",
       "                                        ... \n",
       "Reptiles et insectes pour terrarium       19\n",
       "Cuisine complète et kitchenette           19\n",
       "Réseaux                                   14\n",
       "Cuisine et accessoire                     10\n",
       "Apiculture                                10\n",
       "Name: category, Length: 106, dtype: int64"
      ]
     },
     "execution_count": 28,
     "metadata": {},
     "output_type": "execute_result"
    }
   ],
   "source": [
    "df['category'].value_counts()"
   ]
  },
  {
   "cell_type": "code",
   "execution_count": 29,
   "metadata": {},
   "outputs": [
    {
     "data": {
      "text/plain": [
       "SHOPBOT           46125\n",
       "DIRECT_ACCESS     15523\n",
       "SEM               11408\n",
       "SEO-SEARCH         6883\n",
       "SEO-BRAND          6014\n",
       "EMAIL              3108\n",
       "AFFILIATION        2833\n",
       "RETARGETING        2164\n",
       "DISPLAY             192\n",
       "VIRAL-BRAND          89\n",
       "REFERING_SITE        82\n",
       "PINTEREST            16\n",
       "DISPLAY-BRAND        15\n",
       "SMS                   7\n",
       "SERVICE CLIENT        1\n",
       "Name: last_paid_channel, dtype: int64"
      ]
     },
     "execution_count": 29,
     "metadata": {},
     "output_type": "execute_result"
    }
   ],
   "source": [
    "\n",
    "df['last_paid_channel'].value_counts()"
   ]
  },
  {
   "cell_type": "code",
   "execution_count": 30,
   "metadata": {},
   "outputs": [
    {
     "data": {
      "text/plain": [
       "Service > General Satisfaction > 1                                                                               1621\n",
       "Online Experience > Ease of Use > 1                                                                              1479\n",
       "Other > Miscellaneous > 0                                                                                         466\n",
       "Delivery > Speed of delivery > 1;Online Experience > Ease of Use > 1                                              387\n",
       "Online Experience > Quality > 1                                                                                   250\n",
       "                                                                                                                 ... \n",
       "Delivery > Speed of delivery > 0;Delivery > Timeliness > 0;Product > Expectation > 0                                1\n",
       "Account > Account Management > 1;Online Experience > Ease of Use > 1;Online Experience > Search & Filters > 1       1\n",
       "Service > General Satisfaction > -1;Online Experience > Design / Layout > 1                                         1\n",
       "Delivery > Timeliness > 1;Service > Efficiency / Reliability > 1;Online Experience > Ease of Use > 1                1\n",
       "Service > Promotions / Discounts > 1;Product > Quality > 1                                                          1\n",
       "Name: themes, Length: 1497, dtype: int64"
      ]
     },
     "execution_count": 30,
     "metadata": {},
     "output_type": "execute_result"
    }
   ],
   "source": [
    "df['themes'].value_counts()"
   ]
  },
  {
   "cell_type": "code",
   "execution_count": 44,
   "metadata": {},
   "outputs": [
    {
     "data": {
      "text/plain": [
       "Service > General Satisfaction > 1                                                                               1621\n",
       "Online Experience > Ease of Use > 1                                                                              1479\n",
       "Other > Miscellaneous > 0                                                                                         466\n",
       "Delivery > Speed of delivery > 1;Online Experience > Ease of Use > 1                                              387\n",
       "Online Experience > Quality > 1                                                                                   250\n",
       "                                                                                                                 ... \n",
       "Delivery > Speed of delivery > 0;Delivery > Timeliness > 0;Product > Expectation > 0                                1\n",
       "Account > Account Management > 1;Online Experience > Ease of Use > 1;Online Experience > Search & Filters > 1       1\n",
       "Service > General Satisfaction > -1;Online Experience > Design / Layout > 1                                         1\n",
       "Delivery > Timeliness > 1;Service > Efficiency / Reliability > 1;Online Experience > Ease of Use > 1                1\n",
       "Service > Promotions / Discounts > 1;Product > Quality > 1                                                          1\n",
       "Name: themes, Length: 1497, dtype: int64"
      ]
     },
     "execution_count": 44,
     "metadata": {},
     "output_type": "execute_result"
    }
   ],
   "source": [
    "df['themes'].value_counts()"
   ]
  },
  {
   "cell_type": "code",
   "execution_count": 31,
   "metadata": {},
   "outputs": [
    {
     "data": {
      "text/plain": [
       "Index(['id', 'comment', 'original_comment', 'score', 'data_scale',\n",
       "       'data_source', 'created_at', 'date', 'day', 'month', 'is_mf', 'device',\n",
       "       'family', 'is_b2b', 'reason', 'browser', 'zipcode', 'category',\n",
       "       'language', 'platform', 'provider', 'first_order', 'nb_articles',\n",
       "       'csat_presales', 'shipping_fees', 'bv_transaction', 'payment_method',\n",
       "       'operating_system', 'last_paid_channel', 'has_presales_contact',\n",
       "       'shipping_fees_bucket', 'bv_transaction_bucket',\n",
       "       'has_manodvisor_contact', 'themes', 'tags'],\n",
       "      dtype='object')"
      ]
     },
     "execution_count": 31,
     "metadata": {},
     "output_type": "execute_result"
    }
   ],
   "source": [
    "df.columns"
   ]
  },
  {
   "cell_type": "markdown",
   "metadata": {},
   "source": [
    "Idées :\n",
    "-séparer les b2b des b2c\n",
    "- la colonne tags = raison d'être détracteur. ==> faire un df avec les détracteurs\n",
    "- segments de score\n",
    "- reasons ==> raison du mécontentement ==> faire une seg pour voir ce qui peche le plus\n",
    "- feature importance sur le score\n",
    "- filtre sur les device : est-ce que le site propose une meilleur xp sur un device?\n",
    "- chercher corrélation entre le score et les autres features\n"
   ]
  },
  {
   "cell_type": "markdown",
   "metadata": {},
   "source": [
    "colonnes sur lesquelles avoir des infos:\n",
    "- last_paid_channel\n",
    "- tags\n",
    "- themes\n",
    "- is_mf\n",
    "- language\n",
    "- csat_presales\n",
    "- bv_transaction\n",
    "- has_presales_contact\n",
    "\n"
   ]
  }
 ],
 "metadata": {
  "interpreter": {
   "hash": "054c0128ae785496ec715fe55dc407401ac17e534a17f921fadf0b2704e9e719"
  },
  "kernelspec": {
   "display_name": "Python 3.8.12 64-bit ('base': conda)",
   "language": "python",
   "name": "python3"
  },
  "language_info": {
   "codemirror_mode": {
    "name": "ipython",
    "version": 3
   },
   "file_extension": ".py",
   "mimetype": "text/x-python",
   "name": "python",
   "nbconvert_exporter": "python",
   "pygments_lexer": "ipython3",
   "version": "3.8.12"
  },
  "orig_nbformat": 4
 },
 "nbformat": 4,
 "nbformat_minor": 2
}
